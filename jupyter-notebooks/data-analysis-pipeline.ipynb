{
 "cells": [
  {
   "cell_type": "markdown",
   "metadata": {},
   "source": [
    "### Prototyping the Analysis Pipeline for the Predicting 5-year Survivability of Colorectal Cancer Patients\n",
    "\n",
    "_Write in this notebook all the stages required to prototype your data analysis pipeline according to the project instructions._"
   ]
  },
  {
   "cell_type": "code",
   "execution_count": 1,
   "metadata": {},
   "outputs": [
    {
     "ename": "ModuleNotFoundError",
     "evalue": "No module named 'plotly'",
     "output_type": "error",
     "traceback": [
      "\u001b[31m---------------------------------------------------------------------------\u001b[39m",
      "\u001b[31mModuleNotFoundError\u001b[39m                       Traceback (most recent call last)",
      "\u001b[36mCell\u001b[39m\u001b[36m \u001b[39m\u001b[32mIn[1]\u001b[39m\u001b[32m, line 6\u001b[39m\n\u001b[32m      4\u001b[39m \u001b[38;5;28;01mimport\u001b[39;00m\u001b[38;5;250m \u001b[39m\u001b[34;01mmatplotlib\u001b[39;00m\u001b[34;01m.\u001b[39;00m\u001b[34;01mpyplot\u001b[39;00m\u001b[38;5;250m \u001b[39m\u001b[38;5;28;01mas\u001b[39;00m\u001b[38;5;250m \u001b[39m\u001b[34;01mplt\u001b[39;00m\n\u001b[32m      5\u001b[39m \u001b[38;5;28;01mimport\u001b[39;00m\u001b[38;5;250m \u001b[39m\u001b[34;01mseaborn\u001b[39;00m\u001b[38;5;250m \u001b[39m\u001b[38;5;28;01mas\u001b[39;00m\u001b[38;5;250m \u001b[39m\u001b[34;01msns\u001b[39;00m\n\u001b[32m----> \u001b[39m\u001b[32m6\u001b[39m \u001b[38;5;28;01mimport\u001b[39;00m\u001b[38;5;250m \u001b[39m\u001b[34;01mplotly\u001b[39;00m\u001b[34;01m.\u001b[39;00m\u001b[34;01mexpress\u001b[39;00m\u001b[38;5;250m \u001b[39m\u001b[38;5;28;01mas\u001b[39;00m\u001b[38;5;250m \u001b[39m\u001b[34;01mpx\u001b[39;00m\n\u001b[32m      8\u001b[39m \u001b[38;5;28;01mimport\u001b[39;00m\u001b[38;5;250m \u001b[39m\u001b[34;01msklearn\u001b[39;00m\n\u001b[32m      9\u001b[39m \u001b[38;5;28;01mimport\u001b[39;00m\u001b[38;5;250m \u001b[39m\u001b[34;01mshap\u001b[39;00m\n",
      "\u001b[31mModuleNotFoundError\u001b[39m: No module named 'plotly'"
     ]
    }
   ],
   "source": [
    "import numpy as np\n",
    "import pandas as pd\n",
    "\n",
    "import matplotlib.pyplot as plt\n",
    "import seaborn as sns\n",
    "import plotly.express as px\n",
    "\n",
    "import sklearn\n",
    "import shap"
   ]
  },
  {
   "cell_type": "markdown",
   "metadata": {},
   "source": [
    "# Do your analysis from here...\n",
    "\n",
    "# Take advantage of jupyter notebooks from previous courses! (DSHI?😉)"
   ]
  },
  {
   "cell_type": "markdown",
   "metadata": {},
   "source": [
    "## Colorectal Cancer Dataset"
   ]
  },
  {
   "cell_type": "markdown",
   "metadata": {},
   "source": [
    "### Dataset"
   ]
  },
  {
   "cell_type": "markdown",
   "metadata": {},
   "source": [
    "The *Colorectal Cancer Global Dataset & Predictions* is a comprehensive dataset containing demographic, clinical, lifestyle, and treatment-related features relevant to colorectal cancer (CRC). It concists of 16749 rows and combines 6 numerical features with 22 categorical features, making it suitable for descriptive, diagnostic, and predictive analysis.\n",
    "\n",
    "Colorectal cancer is one of the leading causes of cancer-related deaths worldwide. Since survival rates vary drastically depending on stage at diagnosis and other factors, clinicians face challenges in providing accurate, data-driven prognosis. The dataset addresses this gap by supporting the development of predictive models that estimate 5-year survival probabilities, thereby contributing to personalized medicine and improved risk stratification.\n",
    "\n",
    "The intended target users are clinicians and healthcare providers, who can use the survival predictions to support clinical decision-making, tailor treatment strategies, and allocate resources effectively.\n",
    "\n",
    "By integrating predictive analytics into an interactive dashboard, the project aims to bridge clinical needs with patient-centered care, offering an intuitive, transparent, and supportive tool."
   ]
  },
  {
   "cell_type": "markdown",
   "metadata": {},
   "source": [
    "### Exploratory Data Analysis"
   ]
  },
  {
   "cell_type": "code",
   "execution_count": null,
   "metadata": {},
   "outputs": [],
   "source": [
    "df = pd.read_csv(\"colorectal_cancer_dataset.csv\", delimiter=\";\")\n",
    "print(\"hello world\")"
   ]
  },
  {
   "cell_type": "markdown",
   "metadata": {},
   "source": [
    "#### Data Inspection"
   ]
  },
  {
   "cell_type": "markdown",
   "metadata": {},
   "source": [
    "- Inspecting the first 5 rows."
   ]
  },
  {
   "cell_type": "code",
   "execution_count": null,
   "metadata": {},
   "outputs": [
    {
     "data": {
      "text/html": [
       "<div>\n",
       "<style scoped>\n",
       "    .dataframe tbody tr th:only-of-type {\n",
       "        vertical-align: middle;\n",
       "    }\n",
       "\n",
       "    .dataframe tbody tr th {\n",
       "        vertical-align: top;\n",
       "    }\n",
       "\n",
       "    .dataframe thead th {\n",
       "        text-align: right;\n",
       "    }\n",
       "</style>\n",
       "<table border=\"1\" class=\"dataframe\">\n",
       "  <thead>\n",
       "    <tr style=\"text-align: right;\">\n",
       "      <th></th>\n",
       "      <th>Patient_ID</th>\n",
       "      <th>Country</th>\n",
       "      <th>Age</th>\n",
       "      <th>Gender</th>\n",
       "      <th>Cancer_Stage</th>\n",
       "      <th>Tumor_Size_mm</th>\n",
       "      <th>Family_History</th>\n",
       "      <th>Smoking_History</th>\n",
       "      <th>Alcohol_Consumption</th>\n",
       "      <th>Obesity_BMI</th>\n",
       "      <th>...</th>\n",
       "      <th>Survival_5_years</th>\n",
       "      <th>Mortality</th>\n",
       "      <th>Healthcare_Costs</th>\n",
       "      <th>Incidence_Rate_per_100K</th>\n",
       "      <th>Mortality_Rate_per_100K</th>\n",
       "      <th>Urban_or_Rural</th>\n",
       "      <th>Economic_Classification</th>\n",
       "      <th>Healthcare_Access</th>\n",
       "      <th>Insurance_Status</th>\n",
       "      <th>Survival_Prediction</th>\n",
       "    </tr>\n",
       "  </thead>\n",
       "  <tbody>\n",
       "    <tr>\n",
       "      <th>0</th>\n",
       "      <td>1</td>\n",
       "      <td>UK</td>\n",
       "      <td>77</td>\n",
       "      <td>M</td>\n",
       "      <td>Localized</td>\n",
       "      <td>69</td>\n",
       "      <td>No</td>\n",
       "      <td>No</td>\n",
       "      <td>Yes</td>\n",
       "      <td>Overweight</td>\n",
       "      <td>...</td>\n",
       "      <td>Yes</td>\n",
       "      <td>No</td>\n",
       "      <td>54413</td>\n",
       "      <td>50</td>\n",
       "      <td>5</td>\n",
       "      <td>Urban</td>\n",
       "      <td>Developed</td>\n",
       "      <td>Moderate</td>\n",
       "      <td>Insured</td>\n",
       "      <td>Yes</td>\n",
       "    </tr>\n",
       "    <tr>\n",
       "      <th>1</th>\n",
       "      <td>2</td>\n",
       "      <td>UK</td>\n",
       "      <td>59</td>\n",
       "      <td>M</td>\n",
       "      <td>Localized</td>\n",
       "      <td>33</td>\n",
       "      <td>No</td>\n",
       "      <td>No</td>\n",
       "      <td>No</td>\n",
       "      <td>Overweight</td>\n",
       "      <td>...</td>\n",
       "      <td>Yes</td>\n",
       "      <td>No</td>\n",
       "      <td>76553</td>\n",
       "      <td>37</td>\n",
       "      <td>25</td>\n",
       "      <td>Urban</td>\n",
       "      <td>Developing</td>\n",
       "      <td>High</td>\n",
       "      <td>Uninsured</td>\n",
       "      <td>Yes</td>\n",
       "    </tr>\n",
       "    <tr>\n",
       "      <th>2</th>\n",
       "      <td>3</td>\n",
       "      <td>Japan</td>\n",
       "      <td>66</td>\n",
       "      <td>M</td>\n",
       "      <td>Regional</td>\n",
       "      <td>17</td>\n",
       "      <td>No</td>\n",
       "      <td>Yes</td>\n",
       "      <td>No</td>\n",
       "      <td>Normal</td>\n",
       "      <td>...</td>\n",
       "      <td>Yes</td>\n",
       "      <td>No</td>\n",
       "      <td>62805</td>\n",
       "      <td>54</td>\n",
       "      <td>27</td>\n",
       "      <td>Urban</td>\n",
       "      <td>Developed</td>\n",
       "      <td>Moderate</td>\n",
       "      <td>Uninsured</td>\n",
       "      <td>No</td>\n",
       "    </tr>\n",
       "    <tr>\n",
       "      <th>3</th>\n",
       "      <td>4</td>\n",
       "      <td>USA</td>\n",
       "      <td>83</td>\n",
       "      <td>M</td>\n",
       "      <td>Regional</td>\n",
       "      <td>14</td>\n",
       "      <td>No</td>\n",
       "      <td>No</td>\n",
       "      <td>No</td>\n",
       "      <td>Obese</td>\n",
       "      <td>...</td>\n",
       "      <td>Yes</td>\n",
       "      <td>No</td>\n",
       "      <td>89393</td>\n",
       "      <td>45</td>\n",
       "      <td>11</td>\n",
       "      <td>Urban</td>\n",
       "      <td>Developed</td>\n",
       "      <td>Moderate</td>\n",
       "      <td>Insured</td>\n",
       "      <td>Yes</td>\n",
       "    </tr>\n",
       "    <tr>\n",
       "      <th>4</th>\n",
       "      <td>5</td>\n",
       "      <td>France</td>\n",
       "      <td>66</td>\n",
       "      <td>M</td>\n",
       "      <td>Localized</td>\n",
       "      <td>34</td>\n",
       "      <td>No</td>\n",
       "      <td>Yes</td>\n",
       "      <td>No</td>\n",
       "      <td>Normal</td>\n",
       "      <td>...</td>\n",
       "      <td>Yes</td>\n",
       "      <td>No</td>\n",
       "      <td>66425</td>\n",
       "      <td>15</td>\n",
       "      <td>27</td>\n",
       "      <td>Urban</td>\n",
       "      <td>Developing</td>\n",
       "      <td>High</td>\n",
       "      <td>Insured</td>\n",
       "      <td>Yes</td>\n",
       "    </tr>\n",
       "  </tbody>\n",
       "</table>\n",
       "<p>5 rows × 28 columns</p>\n",
       "</div>"
      ],
      "text/plain": [
       "   Patient_ID Country  Age Gender Cancer_Stage  Tumor_Size_mm Family_History  \\\n",
       "0           1      UK   77      M    Localized             69             No   \n",
       "1           2      UK   59      M    Localized             33             No   \n",
       "2           3   Japan   66      M     Regional             17             No   \n",
       "3           4     USA   83      M     Regional             14             No   \n",
       "4           5  France   66      M    Localized             34             No   \n",
       "\n",
       "  Smoking_History Alcohol_Consumption Obesity_BMI  ... Survival_5_years  \\\n",
       "0              No                 Yes  Overweight  ...              Yes   \n",
       "1              No                  No  Overweight  ...              Yes   \n",
       "2             Yes                  No      Normal  ...              Yes   \n",
       "3              No                  No       Obese  ...              Yes   \n",
       "4             Yes                  No      Normal  ...              Yes   \n",
       "\n",
       "  Mortality Healthcare_Costs Incidence_Rate_per_100K Mortality_Rate_per_100K  \\\n",
       "0        No            54413                      50                       5   \n",
       "1        No            76553                      37                      25   \n",
       "2        No            62805                      54                      27   \n",
       "3        No            89393                      45                      11   \n",
       "4        No            66425                      15                      27   \n",
       "\n",
       "  Urban_or_Rural Economic_Classification Healthcare_Access Insurance_Status  \\\n",
       "0          Urban               Developed          Moderate          Insured   \n",
       "1          Urban              Developing              High        Uninsured   \n",
       "2          Urban               Developed          Moderate        Uninsured   \n",
       "3          Urban               Developed          Moderate          Insured   \n",
       "4          Urban              Developing              High          Insured   \n",
       "\n",
       "  Survival_Prediction  \n",
       "0                 Yes  \n",
       "1                 Yes  \n",
       "2                  No  \n",
       "3                 Yes  \n",
       "4                 Yes  \n",
       "\n",
       "[5 rows x 28 columns]"
      ]
     },
     "metadata": {},
     "output_type": "display_data"
    }
   ],
   "source": [
    "df.head()"
   ]
  },
  {
   "cell_type": "markdown",
   "metadata": {},
   "source": [
    "- Inspecting the number of rows and columns."
   ]
  },
  {
   "cell_type": "code",
   "execution_count": null,
   "metadata": {},
   "outputs": [
    {
     "data": {
      "text/plain": [
       "(167497, 28)"
      ]
     },
     "metadata": {},
     "output_type": "display_data"
    }
   ],
   "source": [
    "df.shape"
   ]
  },
  {
   "cell_type": "markdown",
   "metadata": {},
   "source": [
    "- Inspecting the datatype of each feature."
   ]
  },
  {
   "cell_type": "code",
   "execution_count": null,
   "metadata": {},
   "outputs": [
    {
     "data": {
      "text/plain": [
       "Patient_ID                     int64\n",
       "Country                       object\n",
       "Age                            int64\n",
       "Gender                        object\n",
       "Cancer_Stage                  object\n",
       "Tumor_Size_mm                  int64\n",
       "Family_History                object\n",
       "Smoking_History               object\n",
       "Alcohol_Consumption           object\n",
       "Obesity_BMI                   object\n",
       "Diet_Risk                     object\n",
       "Physical_Activity             object\n",
       "Diabetes                      object\n",
       "Inflammatory_Bowel_Disease    object\n",
       "Genetic_Mutation              object\n",
       "Screening_History             object\n",
       "Early_Detection               object\n",
       "Treatment_Type                object\n",
       "Survival_5_years              object\n",
       "Mortality                     object\n",
       "Healthcare_Costs               int64\n",
       "Incidence_Rate_per_100K        int64\n",
       "Mortality_Rate_per_100K        int64\n",
       "Urban_or_Rural                object\n",
       "Economic_Classification       object\n",
       "Healthcare_Access             object\n",
       "Insurance_Status              object\n",
       "Survival_Prediction           object\n",
       "dtype: object"
      ]
     },
     "metadata": {},
     "output_type": "display_data"
    }
   ],
   "source": [
    "df.dtypes"
   ]
  },
  {
   "cell_type": "code",
   "execution_count": null,
   "metadata": {},
   "outputs": [
    {
     "data": {
      "text/plain": [
       "(167497, 28)"
      ]
     },
     "metadata": {},
     "output_type": "display_data"
    }
   ],
   "source": [
    "df.shape"
   ]
  },
  {
   "cell_type": "markdown",
   "metadata": {},
   "source": [
    "#### Data Processing"
   ]
  },
  {
   "cell_type": "markdown",
   "metadata": {},
   "source": [
    "- Removing features that are not relevant as they will not be used for further analysis and model training. For example, the project does not intend to build a model accounting for patients insurance status or healthcare costs as predictive measures for survival. Furthermore, the Healthcare_Access feature is removed as only patients with an ongoing contact with a healthcare provider will be relevant in the project. Country or area of residence will not be considered."
   ]
  },
  {
   "cell_type": "code",
   "execution_count": null,
   "metadata": {},
   "outputs": [],
   "source": [
    "df.drop(columns=[\"Country\", \"Insurance_Status\", \"Healthcare_Costs\", \"Urban_or_Rural\", \"Economic_Classification\", \"Healthcare_Access\"], inplace=True)"
   ]
  },
  {
   "cell_type": "markdown",
   "metadata": {},
   "source": [
    " - Converting the object datatypes to categorical and displaying the newly assigned datatypes."
   ]
  },
  {
   "cell_type": "code",
   "execution_count": null,
   "metadata": {},
   "outputs": [
    {
     "data": {
      "text/plain": [
       "Patient_ID                       int64\n",
       "Age                              int64\n",
       "Gender                        category\n",
       "Cancer_Stage                  category\n",
       "Tumor_Size_mm                    int64\n",
       "Family_History                category\n",
       "Smoking_History               category\n",
       "Alcohol_Consumption           category\n",
       "Obesity_BMI                   category\n",
       "Diet_Risk                     category\n",
       "Physical_Activity             category\n",
       "Diabetes                      category\n",
       "Inflammatory_Bowel_Disease    category\n",
       "Genetic_Mutation              category\n",
       "Screening_History             category\n",
       "Early_Detection               category\n",
       "Treatment_Type                category\n",
       "Survival_5_years              category\n",
       "Mortality                     category\n",
       "Incidence_Rate_per_100K          int64\n",
       "Mortality_Rate_per_100K          int64\n",
       "Survival_Prediction           category\n",
       "dtype: object"
      ]
     },
     "metadata": {},
     "output_type": "display_data"
    }
   ],
   "source": [
    "df[\"Gender\"] = df[\"Gender\"].astype(\"category\")\n",
    "df[\"Cancer_Stage\"] = df[\"Cancer_Stage\"].astype(\"category\")\n",
    "df[\"Family_History\"] = df[\"Family_History\"].astype(\"category\")\n",
    "df[\"Smoking_History\"] = df[\"Smoking_History\"].astype(\"category\")\n",
    "df[\"Alcohol_Consumption\"] = df[\"Alcohol_Consumption\"].astype(\"category\")\n",
    "df[\"Obesity_BMI\"] = df[\"Obesity_BMI\"].astype(\"category\")\n",
    "df[\"Gender\"] = df[\"Gender\"].astype(\"category\")\n",
    "df[\"Cancer_Stage\"] = df[\"Cancer_Stage\"].astype(\"category\")\n",
    "df[\"Family_History\"] = df[\"Family_History\"].astype(\"category\")\n",
    "df[\"Smoking_History\"] = df[\"Smoking_History\"].astype(\"category\")\n",
    "df[\"Diet_Risk\"] = df[\"Diet_Risk\"].astype(\"category\")\n",
    "df[\"Physical_Activity\"] = df[\"Physical_Activity\"].astype(\"category\")\n",
    "df[\"Diabetes\"] = df[\"Diabetes\"].astype(\"category\")\n",
    "df[\"Inflammatory_Bowel_Disease\"] = df[\"Inflammatory_Bowel_Disease\"].astype(\"category\")\n",
    "df[\"Genetic_Mutation\"] = df[\"Genetic_Mutation\"].astype(\"category\")\n",
    "df[\"Screening_History\"] = df[\"Screening_History\"].astype(\"category\")\n",
    "df[\"Early_Detection\"] = df[\"Early_Detection\"].astype(\"category\")\n",
    "df[\"Treatment_Type\"] = df[\"Treatment_Type\"].astype(\"category\")\n",
    "df[\"Survival_5_years\"] = df[\"Survival_5_years\"].astype(\"category\")\n",
    "df[\"Mortality\"] = df[\"Mortality\"].astype(\"category\")\n",
    "df[\"Survival_Prediction\"] = df[\"Survival_Prediction\"].astype(\"category\")\n",
    "df.dtypes"
   ]
  },
  {
   "cell_type": "markdown",
   "metadata": {},
   "source": [
    "- Checking for null values. The dataset is complete."
   ]
  },
  {
   "cell_type": "code",
   "execution_count": null,
   "metadata": {},
   "outputs": [
    {
     "data": {
      "text/plain": [
       "Patient_ID                    0\n",
       "Age                           0\n",
       "Gender                        0\n",
       "Cancer_Stage                  0\n",
       "Tumor_Size_mm                 0\n",
       "Family_History                0\n",
       "Smoking_History               0\n",
       "Alcohol_Consumption           0\n",
       "Obesity_BMI                   0\n",
       "Diet_Risk                     0\n",
       "Physical_Activity             0\n",
       "Diabetes                      0\n",
       "Inflammatory_Bowel_Disease    0\n",
       "Genetic_Mutation              0\n",
       "Screening_History             0\n",
       "Early_Detection               0\n",
       "Treatment_Type                0\n",
       "Survival_5_years              0\n",
       "Mortality                     0\n",
       "Incidence_Rate_per_100K       0\n",
       "Mortality_Rate_per_100K       0\n",
       "Survival_Prediction           0\n",
       "dtype: int64"
      ]
     },
     "metadata": {},
     "output_type": "display_data"
    }
   ],
   "source": [
    "df.isnull().sum()"
   ]
  },
  {
   "cell_type": "markdown",
   "metadata": {},
   "source": [
    "- Inspecting the first five rows of the processed dataset"
   ]
  },
  {
   "cell_type": "code",
   "execution_count": null,
   "metadata": {},
   "outputs": [
    {
     "data": {
      "text/html": [
       "<div>\n",
       "<style scoped>\n",
       "    .dataframe tbody tr th:only-of-type {\n",
       "        vertical-align: middle;\n",
       "    }\n",
       "\n",
       "    .dataframe tbody tr th {\n",
       "        vertical-align: top;\n",
       "    }\n",
       "\n",
       "    .dataframe thead th {\n",
       "        text-align: right;\n",
       "    }\n",
       "</style>\n",
       "<table border=\"1\" class=\"dataframe\">\n",
       "  <thead>\n",
       "    <tr style=\"text-align: right;\">\n",
       "      <th></th>\n",
       "      <th>Patient_ID</th>\n",
       "      <th>Age</th>\n",
       "      <th>Gender</th>\n",
       "      <th>Cancer_Stage</th>\n",
       "      <th>Tumor_Size_mm</th>\n",
       "      <th>Family_History</th>\n",
       "      <th>Smoking_History</th>\n",
       "      <th>Alcohol_Consumption</th>\n",
       "      <th>Obesity_BMI</th>\n",
       "      <th>Diet_Risk</th>\n",
       "      <th>...</th>\n",
       "      <th>Inflammatory_Bowel_Disease</th>\n",
       "      <th>Genetic_Mutation</th>\n",
       "      <th>Screening_History</th>\n",
       "      <th>Early_Detection</th>\n",
       "      <th>Treatment_Type</th>\n",
       "      <th>Survival_5_years</th>\n",
       "      <th>Mortality</th>\n",
       "      <th>Incidence_Rate_per_100K</th>\n",
       "      <th>Mortality_Rate_per_100K</th>\n",
       "      <th>Survival_Prediction</th>\n",
       "    </tr>\n",
       "  </thead>\n",
       "  <tbody>\n",
       "    <tr>\n",
       "      <th>0</th>\n",
       "      <td>1</td>\n",
       "      <td>77</td>\n",
       "      <td>M</td>\n",
       "      <td>Localized</td>\n",
       "      <td>69</td>\n",
       "      <td>No</td>\n",
       "      <td>No</td>\n",
       "      <td>Yes</td>\n",
       "      <td>Overweight</td>\n",
       "      <td>Low</td>\n",
       "      <td>...</td>\n",
       "      <td>No</td>\n",
       "      <td>No</td>\n",
       "      <td>Regular</td>\n",
       "      <td>Yes</td>\n",
       "      <td>Combination</td>\n",
       "      <td>Yes</td>\n",
       "      <td>No</td>\n",
       "      <td>50</td>\n",
       "      <td>5</td>\n",
       "      <td>Yes</td>\n",
       "    </tr>\n",
       "    <tr>\n",
       "      <th>1</th>\n",
       "      <td>2</td>\n",
       "      <td>59</td>\n",
       "      <td>M</td>\n",
       "      <td>Localized</td>\n",
       "      <td>33</td>\n",
       "      <td>No</td>\n",
       "      <td>No</td>\n",
       "      <td>No</td>\n",
       "      <td>Overweight</td>\n",
       "      <td>Moderate</td>\n",
       "      <td>...</td>\n",
       "      <td>No</td>\n",
       "      <td>No</td>\n",
       "      <td>Regular</td>\n",
       "      <td>No</td>\n",
       "      <td>Chemotherapy</td>\n",
       "      <td>Yes</td>\n",
       "      <td>No</td>\n",
       "      <td>37</td>\n",
       "      <td>25</td>\n",
       "      <td>Yes</td>\n",
       "    </tr>\n",
       "    <tr>\n",
       "      <th>2</th>\n",
       "      <td>3</td>\n",
       "      <td>66</td>\n",
       "      <td>M</td>\n",
       "      <td>Regional</td>\n",
       "      <td>17</td>\n",
       "      <td>No</td>\n",
       "      <td>Yes</td>\n",
       "      <td>No</td>\n",
       "      <td>Normal</td>\n",
       "      <td>Low</td>\n",
       "      <td>...</td>\n",
       "      <td>Yes</td>\n",
       "      <td>No</td>\n",
       "      <td>Irregular</td>\n",
       "      <td>No</td>\n",
       "      <td>Chemotherapy</td>\n",
       "      <td>Yes</td>\n",
       "      <td>No</td>\n",
       "      <td>54</td>\n",
       "      <td>27</td>\n",
       "      <td>No</td>\n",
       "    </tr>\n",
       "    <tr>\n",
       "      <th>3</th>\n",
       "      <td>4</td>\n",
       "      <td>83</td>\n",
       "      <td>M</td>\n",
       "      <td>Regional</td>\n",
       "      <td>14</td>\n",
       "      <td>No</td>\n",
       "      <td>No</td>\n",
       "      <td>No</td>\n",
       "      <td>Obese</td>\n",
       "      <td>High</td>\n",
       "      <td>...</td>\n",
       "      <td>No</td>\n",
       "      <td>No</td>\n",
       "      <td>Regular</td>\n",
       "      <td>No</td>\n",
       "      <td>Surgery</td>\n",
       "      <td>Yes</td>\n",
       "      <td>No</td>\n",
       "      <td>45</td>\n",
       "      <td>11</td>\n",
       "      <td>Yes</td>\n",
       "    </tr>\n",
       "    <tr>\n",
       "      <th>4</th>\n",
       "      <td>5</td>\n",
       "      <td>66</td>\n",
       "      <td>M</td>\n",
       "      <td>Localized</td>\n",
       "      <td>34</td>\n",
       "      <td>No</td>\n",
       "      <td>Yes</td>\n",
       "      <td>No</td>\n",
       "      <td>Normal</td>\n",
       "      <td>Low</td>\n",
       "      <td>...</td>\n",
       "      <td>Yes</td>\n",
       "      <td>No</td>\n",
       "      <td>Never</td>\n",
       "      <td>Yes</td>\n",
       "      <td>Surgery</td>\n",
       "      <td>Yes</td>\n",
       "      <td>No</td>\n",
       "      <td>15</td>\n",
       "      <td>27</td>\n",
       "      <td>Yes</td>\n",
       "    </tr>\n",
       "  </tbody>\n",
       "</table>\n",
       "<p>5 rows × 22 columns</p>\n",
       "</div>"
      ],
      "text/plain": [
       "   Patient_ID  Age Gender Cancer_Stage  Tumor_Size_mm Family_History  \\\n",
       "0           1   77      M    Localized             69             No   \n",
       "1           2   59      M    Localized             33             No   \n",
       "2           3   66      M     Regional             17             No   \n",
       "3           4   83      M     Regional             14             No   \n",
       "4           5   66      M    Localized             34             No   \n",
       "\n",
       "  Smoking_History Alcohol_Consumption Obesity_BMI Diet_Risk  ...  \\\n",
       "0              No                 Yes  Overweight       Low  ...   \n",
       "1              No                  No  Overweight  Moderate  ...   \n",
       "2             Yes                  No      Normal       Low  ...   \n",
       "3              No                  No       Obese      High  ...   \n",
       "4             Yes                  No      Normal       Low  ...   \n",
       "\n",
       "  Inflammatory_Bowel_Disease Genetic_Mutation Screening_History  \\\n",
       "0                         No               No           Regular   \n",
       "1                         No               No           Regular   \n",
       "2                        Yes               No         Irregular   \n",
       "3                         No               No           Regular   \n",
       "4                        Yes               No             Never   \n",
       "\n",
       "  Early_Detection Treatment_Type Survival_5_years Mortality  \\\n",
       "0             Yes    Combination              Yes        No   \n",
       "1              No   Chemotherapy              Yes        No   \n",
       "2              No   Chemotherapy              Yes        No   \n",
       "3              No        Surgery              Yes        No   \n",
       "4             Yes        Surgery              Yes        No   \n",
       "\n",
       "  Incidence_Rate_per_100K Mortality_Rate_per_100K  Survival_Prediction  \n",
       "0                      50                       5                  Yes  \n",
       "1                      37                      25                  Yes  \n",
       "2                      54                      27                   No  \n",
       "3                      45                      11                  Yes  \n",
       "4                      15                      27                  Yes  \n",
       "\n",
       "[5 rows x 22 columns]"
      ]
     },
     "metadata": {},
     "output_type": "display_data"
    }
   ],
   "source": [
    "df.head()"
   ]
  },
  {
   "cell_type": "markdown",
   "metadata": {},
   "source": [
    "### Descriptive Analytics"
   ]
  },
  {
   "cell_type": "markdown",
   "metadata": {},
   "source": [
    "Visualized in the dashboard:\n",
    "- Patient\n",
    "- Patient summary (Family history, smoking histor, BMI, Alchool )\n",
    "- discuss in the group about the \"tabs\""
   ]
  },
  {
   "cell_type": "markdown",
   "metadata": {},
   "source": [
    "Diagnostic\n",
    "smoking and survival rate\n",
    "comorbidities\n",
    "regression between "
   ]
  },
  {
   "cell_type": "markdown",
   "metadata": {},
   "source": [
    "---\n",
    "\n",
    "### Example of a simple pre-trained model from Scikit-learn\n",
    "\n",
    "Training a logistic regression here, that can be loaded to make predictions on user input on the web dashboard.\n",
    "\n",
    "Source: https://scikit-learn.org/stable/auto_examples/linear_model/plot_iris_logistic.html\n"
   ]
  },
  {
   "cell_type": "code",
   "execution_count": null,
   "metadata": {},
   "outputs": [],
   "source": [
    "# Code source: Gaël Varoquaux\n",
    "# Modified for documentation by Jaques Grobler\n",
    "# License: BSD 3 clause\n",
    "\n",
    "from sklearn import datasets\n",
    "from sklearn.inspection import DecisionBoundaryDisplay\n",
    "from sklearn.linear_model import LogisticRegression\n",
    "\n",
    "# import some data to play with\n",
    "iris = datasets.load_iris()\n",
    "X = iris.data[:, :2]  # we only take the first two features.\n",
    "Y = iris.target\n",
    "\n",
    "# Create an instance of Logistic Regression Classifier and fit the data.\n",
    "logreg = LogisticRegression(C=1e5)\n",
    "logreg.fit(X, Y)\n",
    "\n",
    "_, ax = plt.subplots(figsize=(4, 3))\n",
    "DecisionBoundaryDisplay.from_estimator(\n",
    "    logreg,\n",
    "    X,\n",
    "    cmap=plt.cm.Paired,\n",
    "    ax=ax,\n",
    "    response_method=\"predict\",\n",
    "    plot_method=\"pcolormesh\",\n",
    "    shading=\"auto\",\n",
    "    xlabel=\"Sepal length\",\n",
    "    ylabel=\"Sepal width\",\n",
    "    eps=0.5,\n",
    ")\n",
    "\n",
    "# Plot also the training points\n",
    "plt.scatter(X[:, 0], X[:, 1], c=Y, edgecolors=\"k\", cmap=plt.cm.Paired)\n",
    "plt.show()"
   ]
  },
  {
   "cell_type": "markdown",
   "metadata": {},
   "source": [
    "## Exporting a pretrained model\n",
    "\n",
    "In the dashboard, you should load a pre-trained model that was designed and evaluated in the jupyter notebook. You can do it with `pickle` or any alternative for the same purpose."
   ]
  },
  {
   "cell_type": "code",
   "execution_count": null,
   "metadata": {},
   "outputs": [],
   "source": [
    "import pickle"
   ]
  },
  {
   "cell_type": "code",
   "execution_count": null,
   "metadata": {},
   "outputs": [],
   "source": [
    "# Save in the `assets` folder so that it is accessible from the web dashboard\n",
    "file_path = \"../assets/trained_model.pickle\"\n",
    "data_to_save = logreg\n",
    "\n",
    "# Creates a binary object and writes the indicated variables\n",
    "with open(file_path, \"wb\") as writeFile:\n",
    "    pickle.dump(data_to_save, writeFile)"
   ]
  },
  {
   "cell_type": "code",
   "execution_count": null,
   "metadata": {},
   "outputs": [],
   "source": [
    "# Load model\n",
    "pre_trained_model_path = \"../assets/trained_model.pickle\"\n",
    "loaded_model = None # This will be replaced by the trained model in the pickle \n",
    "\n",
    "with open(pre_trained_model_path, \"rb\") as readFile:\n",
    "    loaded_model = pickle.load(readFile)"
   ]
  },
  {
   "cell_type": "code",
   "execution_count": null,
   "metadata": {},
   "outputs": [],
   "source": [
    "loaded_model"
   ]
  },
  {
   "cell_type": "code",
   "execution_count": null,
   "metadata": {},
   "outputs": [],
   "source": [
    "# Sepal [length, width]\n",
    "user_data = [[5, 4]] # Must be 2D array\n",
    "prediction = loaded_model.predict(user_data)\n",
    "\n",
    "print(f\"The predicted value for data {user_data} is {prediction}\")"
   ]
  },
  {
   "cell_type": "markdown",
   "metadata": {},
   "source": []
  }
 ],
 "metadata": {
  "kernelspec": {
   "display_name": "Python 3",
   "language": "python",
   "name": "python3"
  },
  "language_info": {
   "codemirror_mode": {
    "name": "ipython",
    "version": 3
   },
   "file_extension": ".py",
   "mimetype": "text/x-python",
   "name": "python",
   "nbconvert_exporter": "python",
   "pygments_lexer": "ipython3",
   "version": "3.13.2"
  }
 },
 "nbformat": 4,
 "nbformat_minor": 2
}
