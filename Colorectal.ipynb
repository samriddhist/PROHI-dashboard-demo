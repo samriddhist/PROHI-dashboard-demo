{
 "cells": [
  {
   "cell_type": "markdown",
   "metadata": {},
   "source": [
    "## Colorectal Cancer Dataset"
   ]
  },
  {
   "cell_type": "markdown",
   "metadata": {},
   "source": [
    "### Dataset"
   ]
  },
  {
   "cell_type": "markdown",
   "metadata": {},
   "source": [
    "The *Colorectal Cancer Global Dataset & Predictions* is a comprehensive dataset containing demographic, clinical, lifestyle, and treatment-related features relevant to colorectal cancer (CRC). It concists of 16749 rows and combines 6 numerical features with 22 categorical features, making it suitable for descriptive, diagnostic, and predictive analysis.\n",
    "\n",
    "Colorectal cancer is one of the leading causes of cancer-related deaths worldwide. Since survival rates vary drastically depending on stage at diagnosis and other factors, clinicians face challenges in providing accurate, data-driven prognosis. The dataset addresses this gap by supporting the development of predictive models that estimate 5-year survival probabilities, thereby contributing to personalized medicine and improved risk stratification.\n",
    "\n",
    "The intended target users are clinicians and healthcare providers, who can use the survival predictions to support clinical decision-making, tailor treatment strategies, and allocate resources effectively.\n",
    "\n",
    "By integrating predictive analytics into an interactive dashboard, the project aims to bridge clinical needs with patient-centered care, offering an intuitive, transparent, and supportive tool."
   ]
  },
  {
   "cell_type": "markdown",
   "metadata": {},
   "source": [
    "### Exploratory Data Analysis"
   ]
  },
  {
   "cell_type": "code",
   "execution_count": null,
   "metadata": {},
   "outputs": [],
   "source": [
    "import pandas as pd\n",
    "df = pd.read_csv(\"colorectal_cancer_dataset.csv\", delimiter=\";\")\n",
    "print(\"hello world\")"
   ]
  },
  {
   "cell_type": "markdown",
   "metadata": {},
   "source": []
  },
  {
   "cell_type": "markdown",
   "metadata": {},
   "source": [
    "#### Data Inspection"
   ]
  },
  {
   "cell_type": "markdown",
   "metadata": {},
   "source": [
    "- Inspecting the first 5 rows."
   ]
  },
  {
   "cell_type": "code",
   "execution_count": 11,
   "metadata": {},
   "outputs": [
    {
     "data": {
      "text/html": [
       "<div>\n",
       "<style scoped>\n",
       "    .dataframe tbody tr th:only-of-type {\n",
       "        vertical-align: middle;\n",
       "    }\n",
       "\n",
       "    .dataframe tbody tr th {\n",
       "        vertical-align: top;\n",
       "    }\n",
       "\n",
       "    .dataframe thead th {\n",
       "        text-align: right;\n",
       "    }\n",
       "</style>\n",
       "<table border=\"1\" class=\"dataframe\">\n",
       "  <thead>\n",
       "    <tr style=\"text-align: right;\">\n",
       "      <th></th>\n",
       "      <th>Patient_ID</th>\n",
       "      <th>Country</th>\n",
       "      <th>Age</th>\n",
       "      <th>Gender</th>\n",
       "      <th>Cancer_Stage</th>\n",
       "      <th>Tumor_Size_mm</th>\n",
       "      <th>Family_History</th>\n",
       "      <th>Smoking_History</th>\n",
       "      <th>Alcohol_Consumption</th>\n",
       "      <th>Obesity_BMI</th>\n",
       "      <th>...</th>\n",
       "      <th>Survival_5_years</th>\n",
       "      <th>Mortality</th>\n",
       "      <th>Healthcare_Costs</th>\n",
       "      <th>Incidence_Rate_per_100K</th>\n",
       "      <th>Mortality_Rate_per_100K</th>\n",
       "      <th>Urban_or_Rural</th>\n",
       "      <th>Economic_Classification</th>\n",
       "      <th>Healthcare_Access</th>\n",
       "      <th>Insurance_Status</th>\n",
       "      <th>Survival_Prediction</th>\n",
       "    </tr>\n",
       "  </thead>\n",
       "  <tbody>\n",
       "    <tr>\n",
       "      <th>0</th>\n",
       "      <td>1</td>\n",
       "      <td>UK</td>\n",
       "      <td>77</td>\n",
       "      <td>M</td>\n",
       "      <td>Localized</td>\n",
       "      <td>69</td>\n",
       "      <td>No</td>\n",
       "      <td>No</td>\n",
       "      <td>Yes</td>\n",
       "      <td>Overweight</td>\n",
       "      <td>...</td>\n",
       "      <td>Yes</td>\n",
       "      <td>No</td>\n",
       "      <td>54413</td>\n",
       "      <td>50</td>\n",
       "      <td>5</td>\n",
       "      <td>Urban</td>\n",
       "      <td>Developed</td>\n",
       "      <td>Moderate</td>\n",
       "      <td>Insured</td>\n",
       "      <td>Yes</td>\n",
       "    </tr>\n",
       "    <tr>\n",
       "      <th>1</th>\n",
       "      <td>2</td>\n",
       "      <td>UK</td>\n",
       "      <td>59</td>\n",
       "      <td>M</td>\n",
       "      <td>Localized</td>\n",
       "      <td>33</td>\n",
       "      <td>No</td>\n",
       "      <td>No</td>\n",
       "      <td>No</td>\n",
       "      <td>Overweight</td>\n",
       "      <td>...</td>\n",
       "      <td>Yes</td>\n",
       "      <td>No</td>\n",
       "      <td>76553</td>\n",
       "      <td>37</td>\n",
       "      <td>25</td>\n",
       "      <td>Urban</td>\n",
       "      <td>Developing</td>\n",
       "      <td>High</td>\n",
       "      <td>Uninsured</td>\n",
       "      <td>Yes</td>\n",
       "    </tr>\n",
       "    <tr>\n",
       "      <th>2</th>\n",
       "      <td>3</td>\n",
       "      <td>Japan</td>\n",
       "      <td>66</td>\n",
       "      <td>M</td>\n",
       "      <td>Regional</td>\n",
       "      <td>17</td>\n",
       "      <td>No</td>\n",
       "      <td>Yes</td>\n",
       "      <td>No</td>\n",
       "      <td>Normal</td>\n",
       "      <td>...</td>\n",
       "      <td>Yes</td>\n",
       "      <td>No</td>\n",
       "      <td>62805</td>\n",
       "      <td>54</td>\n",
       "      <td>27</td>\n",
       "      <td>Urban</td>\n",
       "      <td>Developed</td>\n",
       "      <td>Moderate</td>\n",
       "      <td>Uninsured</td>\n",
       "      <td>No</td>\n",
       "    </tr>\n",
       "    <tr>\n",
       "      <th>3</th>\n",
       "      <td>4</td>\n",
       "      <td>USA</td>\n",
       "      <td>83</td>\n",
       "      <td>M</td>\n",
       "      <td>Regional</td>\n",
       "      <td>14</td>\n",
       "      <td>No</td>\n",
       "      <td>No</td>\n",
       "      <td>No</td>\n",
       "      <td>Obese</td>\n",
       "      <td>...</td>\n",
       "      <td>Yes</td>\n",
       "      <td>No</td>\n",
       "      <td>89393</td>\n",
       "      <td>45</td>\n",
       "      <td>11</td>\n",
       "      <td>Urban</td>\n",
       "      <td>Developed</td>\n",
       "      <td>Moderate</td>\n",
       "      <td>Insured</td>\n",
       "      <td>Yes</td>\n",
       "    </tr>\n",
       "    <tr>\n",
       "      <th>4</th>\n",
       "      <td>5</td>\n",
       "      <td>France</td>\n",
       "      <td>66</td>\n",
       "      <td>M</td>\n",
       "      <td>Localized</td>\n",
       "      <td>34</td>\n",
       "      <td>No</td>\n",
       "      <td>Yes</td>\n",
       "      <td>No</td>\n",
       "      <td>Normal</td>\n",
       "      <td>...</td>\n",
       "      <td>Yes</td>\n",
       "      <td>No</td>\n",
       "      <td>66425</td>\n",
       "      <td>15</td>\n",
       "      <td>27</td>\n",
       "      <td>Urban</td>\n",
       "      <td>Developing</td>\n",
       "      <td>High</td>\n",
       "      <td>Insured</td>\n",
       "      <td>Yes</td>\n",
       "    </tr>\n",
       "  </tbody>\n",
       "</table>\n",
       "<p>5 rows × 28 columns</p>\n",
       "</div>"
      ],
      "text/plain": [
       "   Patient_ID Country  Age Gender Cancer_Stage  Tumor_Size_mm Family_History  \\\n",
       "0           1      UK   77      M    Localized             69             No   \n",
       "1           2      UK   59      M    Localized             33             No   \n",
       "2           3   Japan   66      M     Regional             17             No   \n",
       "3           4     USA   83      M     Regional             14             No   \n",
       "4           5  France   66      M    Localized             34             No   \n",
       "\n",
       "  Smoking_History Alcohol_Consumption Obesity_BMI  ... Survival_5_years  \\\n",
       "0              No                 Yes  Overweight  ...              Yes   \n",
       "1              No                  No  Overweight  ...              Yes   \n",
       "2             Yes                  No      Normal  ...              Yes   \n",
       "3              No                  No       Obese  ...              Yes   \n",
       "4             Yes                  No      Normal  ...              Yes   \n",
       "\n",
       "  Mortality Healthcare_Costs Incidence_Rate_per_100K Mortality_Rate_per_100K  \\\n",
       "0        No            54413                      50                       5   \n",
       "1        No            76553                      37                      25   \n",
       "2        No            62805                      54                      27   \n",
       "3        No            89393                      45                      11   \n",
       "4        No            66425                      15                      27   \n",
       "\n",
       "  Urban_or_Rural Economic_Classification Healthcare_Access Insurance_Status  \\\n",
       "0          Urban               Developed          Moderate          Insured   \n",
       "1          Urban              Developing              High        Uninsured   \n",
       "2          Urban               Developed          Moderate        Uninsured   \n",
       "3          Urban               Developed          Moderate          Insured   \n",
       "4          Urban              Developing              High          Insured   \n",
       "\n",
       "  Survival_Prediction  \n",
       "0                 Yes  \n",
       "1                 Yes  \n",
       "2                  No  \n",
       "3                 Yes  \n",
       "4                 Yes  \n",
       "\n",
       "[5 rows x 28 columns]"
      ]
     },
     "execution_count": 11,
     "metadata": {},
     "output_type": "execute_result"
    }
   ],
   "source": [
    "df.head()"
   ]
  },
  {
   "cell_type": "markdown",
   "metadata": {},
   "source": [
    "- Inspecting the number of rows and columns."
   ]
  },
  {
   "cell_type": "code",
   "execution_count": 12,
   "metadata": {},
   "outputs": [
    {
     "data": {
      "text/plain": [
       "(167497, 28)"
      ]
     },
     "execution_count": 12,
     "metadata": {},
     "output_type": "execute_result"
    }
   ],
   "source": [
    "df.shape"
   ]
  },
  {
   "cell_type": "markdown",
   "metadata": {},
   "source": [
    "- Inspecting the datatype of each feature."
   ]
  },
  {
   "cell_type": "code",
   "execution_count": 13,
   "metadata": {},
   "outputs": [
    {
     "data": {
      "text/plain": [
       "Patient_ID                     int64\n",
       "Country                       object\n",
       "Age                            int64\n",
       "Gender                        object\n",
       "Cancer_Stage                  object\n",
       "Tumor_Size_mm                  int64\n",
       "Family_History                object\n",
       "Smoking_History               object\n",
       "Alcohol_Consumption           object\n",
       "Obesity_BMI                   object\n",
       "Diet_Risk                     object\n",
       "Physical_Activity             object\n",
       "Diabetes                      object\n",
       "Inflammatory_Bowel_Disease    object\n",
       "Genetic_Mutation              object\n",
       "Screening_History             object\n",
       "Early_Detection               object\n",
       "Treatment_Type                object\n",
       "Survival_5_years              object\n",
       "Mortality                     object\n",
       "Healthcare_Costs               int64\n",
       "Incidence_Rate_per_100K        int64\n",
       "Mortality_Rate_per_100K        int64\n",
       "Urban_or_Rural                object\n",
       "Economic_Classification       object\n",
       "Healthcare_Access             object\n",
       "Insurance_Status              object\n",
       "Survival_Prediction           object\n",
       "dtype: object"
      ]
     },
     "execution_count": 13,
     "metadata": {},
     "output_type": "execute_result"
    }
   ],
   "source": [
    "df.dtypes"
   ]
  },
  {
   "cell_type": "code",
   "execution_count": 14,
   "metadata": {},
   "outputs": [
    {
     "data": {
      "text/plain": [
       "(167497, 28)"
      ]
     },
     "execution_count": 14,
     "metadata": {},
     "output_type": "execute_result"
    }
   ],
   "source": [
    "df.shape"
   ]
  },
  {
   "cell_type": "markdown",
   "metadata": {},
   "source": [
    "#### Data Processing"
   ]
  },
  {
   "cell_type": "markdown",
   "metadata": {},
   "source": [
    "- Removing features that are not relevant as they will not be used for further analysis and model training. For example, the project does not intend to build a model accounting for patients insurance status or healthcare costs as predictive measures for survival. Furthermore, the Healthcare_Access feature is removed as only patients with an ongoing contact with a healthcare provider will be relevant in the project. Country or area of residence will not be considered."
   ]
  },
  {
   "cell_type": "code",
   "execution_count": 15,
   "metadata": {},
   "outputs": [],
   "source": [
    "df.drop(columns=[\"Country\", \"Insurance_Status\", \"Healthcare_Costs\", \"Urban_or_Rural\", \"Economic_Classification\", \"Healthcare_Access\"], inplace=True)"
   ]
  },
  {
   "cell_type": "markdown",
   "metadata": {},
   "source": [
    " - Converting the object datatypes to categorical and displaying the newly assigned datatypes."
   ]
  },
  {
   "cell_type": "code",
   "execution_count": 16,
   "metadata": {},
   "outputs": [
    {
     "data": {
      "text/plain": [
       "Patient_ID                       int64\n",
       "Age                              int64\n",
       "Gender                        category\n",
       "Cancer_Stage                  category\n",
       "Tumor_Size_mm                    int64\n",
       "Family_History                category\n",
       "Smoking_History               category\n",
       "Alcohol_Consumption           category\n",
       "Obesity_BMI                   category\n",
       "Diet_Risk                     category\n",
       "Physical_Activity             category\n",
       "Diabetes                      category\n",
       "Inflammatory_Bowel_Disease    category\n",
       "Genetic_Mutation              category\n",
       "Screening_History             category\n",
       "Early_Detection               category\n",
       "Treatment_Type                category\n",
       "Survival_5_years              category\n",
       "Mortality                     category\n",
       "Incidence_Rate_per_100K          int64\n",
       "Mortality_Rate_per_100K          int64\n",
       "Survival_Prediction           category\n",
       "dtype: object"
      ]
     },
     "execution_count": 16,
     "metadata": {},
     "output_type": "execute_result"
    }
   ],
   "source": [
    "df[\"Gender\"] = df[\"Gender\"].astype(\"category\")\n",
    "df[\"Cancer_Stage\"] = df[\"Cancer_Stage\"].astype(\"category\")\n",
    "df[\"Family_History\"] = df[\"Family_History\"].astype(\"category\")\n",
    "df[\"Smoking_History\"] = df[\"Smoking_History\"].astype(\"category\")\n",
    "df[\"Alcohol_Consumption\"] = df[\"Alcohol_Consumption\"].astype(\"category\")\n",
    "df[\"Obesity_BMI\"] = df[\"Obesity_BMI\"].astype(\"category\")\n",
    "df[\"Gender\"] = df[\"Gender\"].astype(\"category\")\n",
    "df[\"Cancer_Stage\"] = df[\"Cancer_Stage\"].astype(\"category\")\n",
    "df[\"Family_History\"] = df[\"Family_History\"].astype(\"category\")\n",
    "df[\"Smoking_History\"] = df[\"Smoking_History\"].astype(\"category\")\n",
    "df[\"Diet_Risk\"] = df[\"Diet_Risk\"].astype(\"category\")\n",
    "df[\"Physical_Activity\"] = df[\"Physical_Activity\"].astype(\"category\")\n",
    "df[\"Diabetes\"] = df[\"Diabetes\"].astype(\"category\")\n",
    "df[\"Inflammatory_Bowel_Disease\"] = df[\"Inflammatory_Bowel_Disease\"].astype(\"category\")\n",
    "df[\"Genetic_Mutation\"] = df[\"Genetic_Mutation\"].astype(\"category\")\n",
    "df[\"Screening_History\"] = df[\"Screening_History\"].astype(\"category\")\n",
    "df[\"Early_Detection\"] = df[\"Early_Detection\"].astype(\"category\")\n",
    "df[\"Treatment_Type\"] = df[\"Treatment_Type\"].astype(\"category\")\n",
    "df[\"Survival_5_years\"] = df[\"Survival_5_years\"].astype(\"category\")\n",
    "df[\"Mortality\"] = df[\"Mortality\"].astype(\"category\")\n",
    "df[\"Survival_Prediction\"] = df[\"Survival_Prediction\"].astype(\"category\")\n",
    "df.dtypes"
   ]
  },
  {
   "cell_type": "markdown",
   "metadata": {},
   "source": [
    "- Checking for null values. The dataset is complete."
   ]
  },
  {
   "cell_type": "code",
   "execution_count": 17,
   "metadata": {},
   "outputs": [
    {
     "data": {
      "text/plain": [
       "Patient_ID                    0\n",
       "Age                           0\n",
       "Gender                        0\n",
       "Cancer_Stage                  0\n",
       "Tumor_Size_mm                 0\n",
       "Family_History                0\n",
       "Smoking_History               0\n",
       "Alcohol_Consumption           0\n",
       "Obesity_BMI                   0\n",
       "Diet_Risk                     0\n",
       "Physical_Activity             0\n",
       "Diabetes                      0\n",
       "Inflammatory_Bowel_Disease    0\n",
       "Genetic_Mutation              0\n",
       "Screening_History             0\n",
       "Early_Detection               0\n",
       "Treatment_Type                0\n",
       "Survival_5_years              0\n",
       "Mortality                     0\n",
       "Incidence_Rate_per_100K       0\n",
       "Mortality_Rate_per_100K       0\n",
       "Survival_Prediction           0\n",
       "dtype: int64"
      ]
     },
     "execution_count": 17,
     "metadata": {},
     "output_type": "execute_result"
    }
   ],
   "source": [
    "df.isnull().sum()"
   ]
  },
  {
   "cell_type": "markdown",
   "metadata": {},
   "source": [
    "- Inspecting the first five rows of the processed dataset"
   ]
  },
  {
   "cell_type": "code",
   "execution_count": 18,
   "metadata": {},
   "outputs": [
    {
     "data": {
      "text/html": [
       "<div>\n",
       "<style scoped>\n",
       "    .dataframe tbody tr th:only-of-type {\n",
       "        vertical-align: middle;\n",
       "    }\n",
       "\n",
       "    .dataframe tbody tr th {\n",
       "        vertical-align: top;\n",
       "    }\n",
       "\n",
       "    .dataframe thead th {\n",
       "        text-align: right;\n",
       "    }\n",
       "</style>\n",
       "<table border=\"1\" class=\"dataframe\">\n",
       "  <thead>\n",
       "    <tr style=\"text-align: right;\">\n",
       "      <th></th>\n",
       "      <th>Patient_ID</th>\n",
       "      <th>Age</th>\n",
       "      <th>Gender</th>\n",
       "      <th>Cancer_Stage</th>\n",
       "      <th>Tumor_Size_mm</th>\n",
       "      <th>Family_History</th>\n",
       "      <th>Smoking_History</th>\n",
       "      <th>Alcohol_Consumption</th>\n",
       "      <th>Obesity_BMI</th>\n",
       "      <th>Diet_Risk</th>\n",
       "      <th>...</th>\n",
       "      <th>Inflammatory_Bowel_Disease</th>\n",
       "      <th>Genetic_Mutation</th>\n",
       "      <th>Screening_History</th>\n",
       "      <th>Early_Detection</th>\n",
       "      <th>Treatment_Type</th>\n",
       "      <th>Survival_5_years</th>\n",
       "      <th>Mortality</th>\n",
       "      <th>Incidence_Rate_per_100K</th>\n",
       "      <th>Mortality_Rate_per_100K</th>\n",
       "      <th>Survival_Prediction</th>\n",
       "    </tr>\n",
       "  </thead>\n",
       "  <tbody>\n",
       "    <tr>\n",
       "      <th>0</th>\n",
       "      <td>1</td>\n",
       "      <td>77</td>\n",
       "      <td>M</td>\n",
       "      <td>Localized</td>\n",
       "      <td>69</td>\n",
       "      <td>No</td>\n",
       "      <td>No</td>\n",
       "      <td>Yes</td>\n",
       "      <td>Overweight</td>\n",
       "      <td>Low</td>\n",
       "      <td>...</td>\n",
       "      <td>No</td>\n",
       "      <td>No</td>\n",
       "      <td>Regular</td>\n",
       "      <td>Yes</td>\n",
       "      <td>Combination</td>\n",
       "      <td>Yes</td>\n",
       "      <td>No</td>\n",
       "      <td>50</td>\n",
       "      <td>5</td>\n",
       "      <td>Yes</td>\n",
       "    </tr>\n",
       "    <tr>\n",
       "      <th>1</th>\n",
       "      <td>2</td>\n",
       "      <td>59</td>\n",
       "      <td>M</td>\n",
       "      <td>Localized</td>\n",
       "      <td>33</td>\n",
       "      <td>No</td>\n",
       "      <td>No</td>\n",
       "      <td>No</td>\n",
       "      <td>Overweight</td>\n",
       "      <td>Moderate</td>\n",
       "      <td>...</td>\n",
       "      <td>No</td>\n",
       "      <td>No</td>\n",
       "      <td>Regular</td>\n",
       "      <td>No</td>\n",
       "      <td>Chemotherapy</td>\n",
       "      <td>Yes</td>\n",
       "      <td>No</td>\n",
       "      <td>37</td>\n",
       "      <td>25</td>\n",
       "      <td>Yes</td>\n",
       "    </tr>\n",
       "    <tr>\n",
       "      <th>2</th>\n",
       "      <td>3</td>\n",
       "      <td>66</td>\n",
       "      <td>M</td>\n",
       "      <td>Regional</td>\n",
       "      <td>17</td>\n",
       "      <td>No</td>\n",
       "      <td>Yes</td>\n",
       "      <td>No</td>\n",
       "      <td>Normal</td>\n",
       "      <td>Low</td>\n",
       "      <td>...</td>\n",
       "      <td>Yes</td>\n",
       "      <td>No</td>\n",
       "      <td>Irregular</td>\n",
       "      <td>No</td>\n",
       "      <td>Chemotherapy</td>\n",
       "      <td>Yes</td>\n",
       "      <td>No</td>\n",
       "      <td>54</td>\n",
       "      <td>27</td>\n",
       "      <td>No</td>\n",
       "    </tr>\n",
       "    <tr>\n",
       "      <th>3</th>\n",
       "      <td>4</td>\n",
       "      <td>83</td>\n",
       "      <td>M</td>\n",
       "      <td>Regional</td>\n",
       "      <td>14</td>\n",
       "      <td>No</td>\n",
       "      <td>No</td>\n",
       "      <td>No</td>\n",
       "      <td>Obese</td>\n",
       "      <td>High</td>\n",
       "      <td>...</td>\n",
       "      <td>No</td>\n",
       "      <td>No</td>\n",
       "      <td>Regular</td>\n",
       "      <td>No</td>\n",
       "      <td>Surgery</td>\n",
       "      <td>Yes</td>\n",
       "      <td>No</td>\n",
       "      <td>45</td>\n",
       "      <td>11</td>\n",
       "      <td>Yes</td>\n",
       "    </tr>\n",
       "    <tr>\n",
       "      <th>4</th>\n",
       "      <td>5</td>\n",
       "      <td>66</td>\n",
       "      <td>M</td>\n",
       "      <td>Localized</td>\n",
       "      <td>34</td>\n",
       "      <td>No</td>\n",
       "      <td>Yes</td>\n",
       "      <td>No</td>\n",
       "      <td>Normal</td>\n",
       "      <td>Low</td>\n",
       "      <td>...</td>\n",
       "      <td>Yes</td>\n",
       "      <td>No</td>\n",
       "      <td>Never</td>\n",
       "      <td>Yes</td>\n",
       "      <td>Surgery</td>\n",
       "      <td>Yes</td>\n",
       "      <td>No</td>\n",
       "      <td>15</td>\n",
       "      <td>27</td>\n",
       "      <td>Yes</td>\n",
       "    </tr>\n",
       "  </tbody>\n",
       "</table>\n",
       "<p>5 rows × 22 columns</p>\n",
       "</div>"
      ],
      "text/plain": [
       "   Patient_ID  Age Gender Cancer_Stage  Tumor_Size_mm Family_History  \\\n",
       "0           1   77      M    Localized             69             No   \n",
       "1           2   59      M    Localized             33             No   \n",
       "2           3   66      M     Regional             17             No   \n",
       "3           4   83      M     Regional             14             No   \n",
       "4           5   66      M    Localized             34             No   \n",
       "\n",
       "  Smoking_History Alcohol_Consumption Obesity_BMI Diet_Risk  ...  \\\n",
       "0              No                 Yes  Overweight       Low  ...   \n",
       "1              No                  No  Overweight  Moderate  ...   \n",
       "2             Yes                  No      Normal       Low  ...   \n",
       "3              No                  No       Obese      High  ...   \n",
       "4             Yes                  No      Normal       Low  ...   \n",
       "\n",
       "  Inflammatory_Bowel_Disease Genetic_Mutation Screening_History  \\\n",
       "0                         No               No           Regular   \n",
       "1                         No               No           Regular   \n",
       "2                        Yes               No         Irregular   \n",
       "3                         No               No           Regular   \n",
       "4                        Yes               No             Never   \n",
       "\n",
       "  Early_Detection Treatment_Type Survival_5_years Mortality  \\\n",
       "0             Yes    Combination              Yes        No   \n",
       "1              No   Chemotherapy              Yes        No   \n",
       "2              No   Chemotherapy              Yes        No   \n",
       "3              No        Surgery              Yes        No   \n",
       "4             Yes        Surgery              Yes        No   \n",
       "\n",
       "  Incidence_Rate_per_100K Mortality_Rate_per_100K  Survival_Prediction  \n",
       "0                      50                       5                  Yes  \n",
       "1                      37                      25                  Yes  \n",
       "2                      54                      27                   No  \n",
       "3                      45                      11                  Yes  \n",
       "4                      15                      27                  Yes  \n",
       "\n",
       "[5 rows x 22 columns]"
      ]
     },
     "execution_count": 18,
     "metadata": {},
     "output_type": "execute_result"
    }
   ],
   "source": [
    "df.head()"
   ]
  },
  {
   "cell_type": "markdown",
   "metadata": {},
   "source": [
    "### Descriptive Analytics"
   ]
  },
  {
   "cell_type": "markdown",
   "metadata": {},
   "source": [
    "Visualized in the dashboard:\n",
    "- Patient\n",
    "- Patient summary (Family history, smoking histor, BMI, Alchool )\n",
    "- discuss in the group about the \"tabs\""
   ]
  },
  {
   "cell_type": "markdown",
   "metadata": {},
   "source": [
    "Diagnostic\n",
    "smoking and survival rate\n",
    "comorbidities\n",
    "regression between "
   ]
  }
 ],
 "metadata": {
  "kernelspec": {
   "display_name": "Python 3",
   "language": "python",
   "name": "python3"
  },
  "language_info": {
   "codemirror_mode": {
    "name": "ipython",
    "version": 3
   },
   "file_extension": ".py",
   "mimetype": "text/x-python",
   "name": "python",
   "nbconvert_exporter": "python",
   "pygments_lexer": "ipython3",
   "version": "3.13.2"
  }
 },
 "nbformat": 4,
 "nbformat_minor": 2
}
